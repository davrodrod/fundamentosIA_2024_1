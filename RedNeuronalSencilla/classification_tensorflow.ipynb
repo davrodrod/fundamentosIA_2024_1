{
  "nbformat": 4,
  "nbformat_minor": 0,
  "metadata": {
    "colab": {
      "name": "MLP_multiclass_classification_tensorflow.ipynb",
      "provenance": [],
      "gpuType": "T4",
      "authorship_tag": "ABX9TyPc+/DKxM/Zf+BddDTbzMCx",
      "include_colab_link": true
    },
    "kernelspec": {
      "name": "python3",
      "display_name": "Python 3"
    },
    "accelerator": "GPU",
    "gpuClass": "standard"
  },
  "cells": [
    {
      "cell_type": "markdown",
      "metadata": {
        "id": "view-in-github",
        "colab_type": "text"
      },
      "source": [
        "<a href=\"https://colab.research.google.com/github/davrodrod/fundamentosIA_2023_3/blob/main/RedNeuronalSencilla/classification_tensorflow.ipynb\" target=\"_parent\"><img src=\"https://colab.research.google.com/assets/colab-badge.svg\" alt=\"Open In Colab\"/></a>"
      ]
    },
    {
      "cell_type": "markdown",
      "source": [
        "## Importación de librerías necesarias"
      ],
      "metadata": {
        "id": "7M3aAyRli2xF"
      }
    },
    {
      "cell_type": "code",
      "metadata": {
        "id": "rj_qH5dJNcP8"
      },
      "source": [
        "# Fuente https://machinelearningmastery.com/tensorflow-tutorial-deep-learning-with-tf-keras/\n",
        "\n",
        "# mlp for multiclass classification\n",
        "from numpy import argmax\n",
        "from pandas import read_csv\n",
        "from sklearn.model_selection import train_test_split\n",
        "from sklearn.preprocessing import LabelEncoder\n",
        "from tensorflow.keras import Sequential\n",
        "from tensorflow.keras.layers import Dense\n",
        "import matplotlib.pyplot as plt\n",
        "from tensorflow.keras.utils import plot_model"
      ],
      "execution_count": null,
      "outputs": []
    },
    {
      "cell_type": "markdown",
      "source": [
        "## Carga del dataset"
      ],
      "metadata": {
        "id": "XcKXo94BjClz"
      }
    },
    {
      "cell_type": "code",
      "source": [
        "# load the dataset\n",
        "path = 'https://raw.githubusercontent.com/jbrownlee/Datasets/master/iris.csv'\n",
        "df = read_csv(path, header=None)\n",
        "# split into input and output columns\n",
        "X, y = df.values[:, :-1], df.values[:, -1]\n",
        "# ensure all data are floating point values\n",
        "X = X.astype('float32')\n",
        "# encode strings to integer\n",
        "print('Primeras 5 etiquetas (texto)')\n",
        "print(y[:5])\n",
        "le = LabelEncoder()\n",
        "y = le.fit_transform(y)\n",
        "\n",
        "print()\n",
        "print(\"Primeros 5 ejemplares\")\n",
        "print(X[:5])\n",
        "print()\n",
        "print(\"Primeras 5 etiquetas\")\n",
        "print(y[:5])"
      ],
      "metadata": {
        "id": "HNKr9O52i_VK",
        "outputId": "243b3ff8-22e6-410e-dc6d-f88f645cefde",
        "colab": {
          "base_uri": "https://localhost:8080/"
        }
      },
      "execution_count": null,
      "outputs": [
        {
          "output_type": "stream",
          "name": "stdout",
          "text": [
            "Primeras 5 etiquetas (texto)\n",
            "['Iris-setosa' 'Iris-setosa' 'Iris-setosa' 'Iris-setosa' 'Iris-setosa']\n",
            "\n",
            "Primeros 5 ejemplares\n",
            "[[5.1 3.5 1.4 0.2]\n",
            " [4.9 3.  1.4 0.2]\n",
            " [4.7 3.2 1.3 0.2]\n",
            " [4.6 3.1 1.5 0.2]\n",
            " [5.  3.6 1.4 0.2]]\n",
            "\n",
            "Primeras 5 etiquetas\n",
            "[0 0 0 0 0]\n"
          ]
        }
      ]
    },
    {
      "cell_type": "markdown",
      "source": [
        "## División de datos de entrenamiento y test"
      ],
      "metadata": {
        "id": "ySmnLu2anmGG"
      }
    },
    {
      "cell_type": "code",
      "source": [
        "# split into train and test datasets\n",
        "X_train, X_test, y_train, y_test = train_test_split(X, y, test_size=0.33)\n",
        "print(X_train.shape, X_test.shape, y_train.shape, y_test.shape)\n",
        "# determine the number of input features\n"
      ],
      "metadata": {
        "id": "zQouR88Gmr28",
        "outputId": "c177654b-aa8d-4be0-a186-7dfc0e05166d",
        "colab": {
          "base_uri": "https://localhost:8080/"
        }
      },
      "execution_count": null,
      "outputs": [
        {
          "output_type": "stream",
          "name": "stdout",
          "text": [
            "(100, 4) (50, 4) (100,) (50,)\n"
          ]
        }
      ]
    },
    {
      "cell_type": "markdown",
      "source": [
        "## Construcción del modelo (Red Neuronal)"
      ],
      "metadata": {
        "id": "kZi7NJSsn8Z9"
      }
    },
    {
      "cell_type": "code",
      "source": [
        "n_features = X_train.shape[1]\n",
        "\n",
        "# define model\n",
        "model = Sequential()\n",
        "model.add(Dense(10, activation='relu', kernel_initializer='he_normal', input_shape=(n_features,)))\n",
        "model.add(Dense(8, activation='relu', kernel_initializer='he_normal'))\n",
        "model.add(Dense(3, activation='softmax'))\n",
        "\n",
        "plot_model(model, to_file='autoencoder.png', show_shapes=True, show_layer_names=False)"
      ],
      "metadata": {
        "id": "C_qTgUz-oCXT",
        "outputId": "b039dfcd-e6d4-4195-f306-d2102b713d74",
        "colab": {
          "base_uri": "https://localhost:8080/",
          "height": 422
        }
      },
      "execution_count": null,
      "outputs": [
        {
          "output_type": "execute_result",
          "data": {
            "image/png": "[encoded data removed]",
            "text/plain": [
              "<IPython.core.display.Image object>"
            ]
          },
          "metadata": {},
          "execution_count": 64
        }
      ]
    },
    {
      "cell_type": "markdown",
      "source": [
        "## Entrenamiento"
      ],
      "metadata": {
        "id": "LRRW9U4zoLUi"
      }
    },
    {
      "cell_type": "code",
      "source": [
        "# compile the model\n",
        "model.compile(optimizer='adam', loss='sparse_categorical_crossentropy', metrics=['accuracy'])\n",
        "# fit the model\n",
        "history = model.fit(X_train, y_train, epochs=150, batch_size=32, verbose=1, validation_data=(X_test, y_test))\n",
        "\n",
        "# evaluate the model\n",
        "#loss, acc = model.evaluate(X_test, y_test, verbose=0)\n",
        "#print('Test Accuracy: %.3f' % acc)\n",
        "\n",
        "plt.plot(history.history[\"loss\"], label=\"Training Loss\")\n",
        "plt.plot(history.history[\"val_loss\"], label=\"Validation Loss\")\n",
        "plt.legend()"
      ],
      "metadata": {
        "id": "AQF1BwbShVDS",
        "outputId": "151a0ee6-982b-47c4-c510-89469038960d",
        "colab": {
          "base_uri": "https://localhost:8080/",
          "height": 1000
        }
      },
      "execution_count": null,
      "outputs": [
        {
          "output_type": "stream",
          "name": "stdout",
          "text": [
            "Epoch 1/150\n",
            "4/4 [==============================] - 2s 85ms/step - loss: 5.6252 - accuracy: 0.3300 - val_loss: 5.3379 - val_accuracy: 0.3400\n",
            "Epoch 2/150\n",
            "4/4 [==============================] - 0s 24ms/step - loss: 5.1958 - accuracy: 0.3300 - val_loss: 4.9097 - val_accuracy: 0.3400\n",
            "Epoch 3/150\n",
            "4/4 [==============================] - 0s 21ms/step - loss: 4.7748 - accuracy: 0.3300 - val_loss: 4.4917 - val_accuracy: 0.3400\n",
            "Epoch 4/150\n",
            "4/4 [==============================] - 0s 20ms/step - loss: 4.3748 - accuracy: 0.3300 - val_loss: 4.0814 - val_accuracy: 0.3400\n",
            "Epoch 5/150\n",
            "4/4 [==============================] - 0s 21ms/step - loss: 3.9810 - accuracy: 0.3300 - val_loss: 3.6886 - val_accuracy: 0.3400\n",
            "Epoch 6/150\n",
            "4/4 [==============================] - 0s 22ms/step - loss: 3.6065 - accuracy: 0.3300 - val_loss: 3.3281 - val_accuracy: 0.3400\n",
            "Epoch 7/150\n",
            "4/4 [==============================] - 0s 25ms/step - loss: 3.2724 - accuracy: 0.3300 - val_loss: 3.0157 - val_accuracy: 0.3400\n",
            "Epoch 8/150\n",
            "4/4 [==============================] - 0s 19ms/step - loss: 2.9905 - accuracy: 0.3300 - val_loss: 2.7560 - val_accuracy: 0.3600\n",
            "Epoch 9/150\n",
            "4/4 [==============================] - 0s 17ms/step - loss: 2.7759 - accuracy: 0.4100 - val_loss: 2.5591 - val_accuracy: 0.4000\n",
            "Epoch 10/150\n",
            "4/4 [==============================] - 0s 23ms/step - loss: 2.6205 - accuracy: 0.5600 - val_loss: 2.4198 - val_accuracy: 0.6000\n",
            "Epoch 11/150\n",
            "4/4 [==============================] - 0s 22ms/step - loss: 2.5039 - accuracy: 0.6400 - val_loss: 2.3049 - val_accuracy: 0.6600\n",
            "Epoch 12/150\n",
            "4/4 [==============================] - 0s 23ms/step - loss: 2.3976 - accuracy: 0.6600 - val_loss: 2.1962 - val_accuracy: 0.6800\n",
            "Epoch 13/150\n",
            "4/4 [==============================] - 0s 22ms/step - loss: 2.2879 - accuracy: 0.6600 - val_loss: 2.0853 - val_accuracy: 0.6800\n",
            "Epoch 14/150\n",
            "4/4 [==============================] - 0s 23ms/step - loss: 2.1699 - accuracy: 0.6600 - val_loss: 1.9695 - val_accuracy: 0.6600\n",
            "Epoch 15/150\n",
            "4/4 [==============================] - 0s 23ms/step - loss: 2.0423 - accuracy: 0.6600 - val_loss: 1.8552 - val_accuracy: 0.6600\n",
            "Epoch 16/150\n",
            "4/4 [==============================] - 0s 24ms/step - loss: 1.9158 - accuracy: 0.6600 - val_loss: 1.7487 - val_accuracy: 0.6200\n",
            "Epoch 17/150\n",
            "4/4 [==============================] - 0s 21ms/step - loss: 1.7963 - accuracy: 0.6600 - val_loss: 1.6549 - val_accuracy: 0.6200\n",
            "Epoch 18/150\n",
            "4/4 [==============================] - 0s 18ms/step - loss: 1.7005 - accuracy: 0.6400 - val_loss: 1.5634 - val_accuracy: 0.5800\n",
            "Epoch 19/150\n",
            "4/4 [==============================] - 0s 12ms/step - loss: 1.5941 - accuracy: 0.6200 - val_loss: 1.4767 - val_accuracy: 0.5600\n",
            "Epoch 20/150\n",
            "4/4 [==============================] - 0s 14ms/step - loss: 1.5059 - accuracy: 0.6200 - val_loss: 1.3935 - val_accuracy: 0.5600\n",
            "Epoch 21/150\n",
            "4/4 [==============================] - 0s 17ms/step - loss: 1.4141 - accuracy: 0.5900 - val_loss: 1.3192 - val_accuracy: 0.5600\n",
            "Epoch 22/150\n",
            "4/4 [==============================] - 0s 12ms/step - loss: 1.3355 - accuracy: 0.6100 - val_loss: 1.2481 - val_accuracy: 0.5800\n",
            "Epoch 23/150\n",
            "4/4 [==============================] - 0s 17ms/step - loss: 1.2598 - accuracy: 0.6200 - val_loss: 1.1822 - val_accuracy: 0.5800\n",
            "Epoch 24/150\n",
            "4/4 [==============================] - 0s 13ms/step - loss: 1.1979 - accuracy: 0.6200 - val_loss: 1.1256 - val_accuracy: 0.5800\n",
            "Epoch 25/150\n",
            "4/4 [==============================] - 0s 18ms/step - loss: 1.1363 - accuracy: 0.6200 - val_loss: 1.0791 - val_accuracy: 0.6000\n",
            "Epoch 26/150\n",
            "4/4 [==============================] - 0s 17ms/step - loss: 1.0847 - accuracy: 0.6300 - val_loss: 1.0391 - val_accuracy: 0.6200\n",
            "Epoch 27/150\n",
            "4/4 [==============================] - 0s 14ms/step - loss: 1.0498 - accuracy: 0.6400 - val_loss: 1.0078 - val_accuracy: 0.6200\n",
            "Epoch 28/150\n",
            "4/4 [==============================] - 0s 18ms/step - loss: 1.0091 - accuracy: 0.6400 - val_loss: 0.9810 - val_accuracy: 0.6200\n",
            "Epoch 29/150\n",
            "4/4 [==============================] - 0s 13ms/step - loss: 0.9839 - accuracy: 0.5900 - val_loss: 0.9587 - val_accuracy: 0.3000\n",
            "Epoch 30/150\n",
            "4/4 [==============================] - 0s 13ms/step - loss: 0.9606 - accuracy: 0.3300 - val_loss: 0.9414 - val_accuracy: 0.3200\n",
            "Epoch 31/150\n",
            "4/4 [==============================] - 0s 15ms/step - loss: 0.9439 - accuracy: 0.3300 - val_loss: 0.9283 - val_accuracy: 0.3400\n",
            "Epoch 32/150\n",
            "4/4 [==============================] - 0s 12ms/step - loss: 0.9307 - accuracy: 0.3500 - val_loss: 0.9185 - val_accuracy: 0.4000\n",
            "Epoch 33/150\n",
            "4/4 [==============================] - 0s 12ms/step - loss: 0.9219 - accuracy: 0.3800 - val_loss: 0.9112 - val_accuracy: 0.4200\n",
            "Epoch 34/150\n",
            "4/4 [==============================] - 0s 18ms/step - loss: 0.9137 - accuracy: 0.3900 - val_loss: 0.9035 - val_accuracy: 0.4400\n",
            "Epoch 35/150\n",
            "4/4 [==============================] - 0s 19ms/step - loss: 0.9080 - accuracy: 0.3900 - val_loss: 0.8937 - val_accuracy: 0.4200\n",
            "Epoch 36/150\n",
            "4/4 [==============================] - 0s 18ms/step - loss: 0.9004 - accuracy: 0.3900 - val_loss: 0.8869 - val_accuracy: 0.4400\n",
            "Epoch 37/150\n",
            "4/4 [==============================] - 0s 17ms/step - loss: 0.8931 - accuracy: 0.3900 - val_loss: 0.8824 - val_accuracy: 0.4600\n",
            "Epoch 38/150\n",
            "4/4 [==============================] - 0s 19ms/step - loss: 0.8822 - accuracy: 0.4300 - val_loss: 0.8778 - val_accuracy: 0.4800\n",
            "Epoch 39/150\n",
            "4/4 [==============================] - 0s 13ms/step - loss: 0.8744 - accuracy: 0.4400 - val_loss: 0.8735 - val_accuracy: 0.5000\n",
            "Epoch 40/150\n",
            "4/4 [==============================] - 0s 16ms/step - loss: 0.8682 - accuracy: 0.4500 - val_loss: 0.8674 - val_accuracy: 0.4800\n",
            "Epoch 41/150\n",
            "4/4 [==============================] - 0s 18ms/step - loss: 0.8609 - accuracy: 0.4400 - val_loss: 0.8569 - val_accuracy: 0.4800\n",
            "Epoch 42/150\n",
            "4/4 [==============================] - 0s 17ms/step - loss: 0.8537 - accuracy: 0.4300 - val_loss: 0.8478 - val_accuracy: 0.4600\n",
            "Epoch 43/150\n",
            "4/4 [==============================] - 0s 13ms/step - loss: 0.8466 - accuracy: 0.3900 - val_loss: 0.8420 - val_accuracy: 0.4600\n",
            "Epoch 44/150\n",
            "4/4 [==============================] - 0s 12ms/step - loss: 0.8384 - accuracy: 0.4200 - val_loss: 0.8368 - val_accuracy: 0.4800\n",
            "Epoch 45/150\n",
            "4/4 [==============================] - 0s 18ms/step - loss: 0.8304 - accuracy: 0.4400 - val_loss: 0.8286 - val_accuracy: 0.4800\n",
            "Epoch 46/150\n",
            "4/4 [==============================] - 0s 13ms/step - loss: 0.8197 - accuracy: 0.4500 - val_loss: 0.8141 - val_accuracy: 0.4800\n",
            "Epoch 47/150\n",
            "4/4 [==============================] - 0s 20ms/step - loss: 0.8071 - accuracy: 0.4700 - val_loss: 0.8046 - val_accuracy: 0.5200\n",
            "Epoch 48/150\n",
            "4/4 [==============================] - 0s 18ms/step - loss: 0.7953 - accuracy: 0.4900 - val_loss: 0.7954 - val_accuracy: 0.6000\n",
            "Epoch 49/150\n",
            "4/4 [==============================] - 0s 13ms/step - loss: 0.7825 - accuracy: 0.5400 - val_loss: 0.7826 - val_accuracy: 0.6400\n",
            "Epoch 50/150\n",
            "4/4 [==============================] - 0s 12ms/step - loss: 0.7693 - accuracy: 0.5400 - val_loss: 0.7713 - val_accuracy: 0.6200\n",
            "Epoch 51/150\n",
            "4/4 [==============================] - 0s 12ms/step - loss: 0.7557 - accuracy: 0.5400 - val_loss: 0.7601 - val_accuracy: 0.6200\n",
            "Epoch 52/150\n",
            "4/4 [==============================] - 0s 14ms/step - loss: 0.7442 - accuracy: 0.5600 - val_loss: 0.7455 - val_accuracy: 0.6200\n",
            "Epoch 53/150\n",
            "4/4 [==============================] - 0s 18ms/step - loss: 0.7331 - accuracy: 0.5700 - val_loss: 0.7345 - val_accuracy: 0.6200\n",
            "Epoch 54/150\n",
            "4/4 [==============================] - 0s 12ms/step - loss: 0.7242 - accuracy: 0.5800 - val_loss: 0.7280 - val_accuracy: 0.6000\n",
            "Epoch 55/150\n",
            "4/4 [==============================] - 0s 12ms/step - loss: 0.7156 - accuracy: 0.5900 - val_loss: 0.7163 - val_accuracy: 0.6200\n",
            "Epoch 56/150\n",
            "4/4 [==============================] - 0s 13ms/step - loss: 0.7063 - accuracy: 0.6000 - val_loss: 0.7032 - val_accuracy: 0.6200\n",
            "Epoch 57/150\n",
            "4/4 [==============================] - 0s 17ms/step - loss: 0.6953 - accuracy: 0.6200 - val_loss: 0.6881 - val_accuracy: 0.6200\n",
            "Epoch 58/150\n",
            "4/4 [==============================] - 0s 20ms/step - loss: 0.6866 - accuracy: 0.5900 - val_loss: 0.6750 - val_accuracy: 0.6600\n",
            "Epoch 59/150\n",
            "4/4 [==============================] - 0s 15ms/step - loss: 0.6792 - accuracy: 0.5900 - val_loss: 0.6655 - val_accuracy: 0.6600\n",
            "Epoch 60/150\n",
            "4/4 [==============================] - 0s 12ms/step - loss: 0.6731 - accuracy: 0.5900 - val_loss: 0.6575 - val_accuracy: 0.7000\n",
            "Epoch 61/150\n",
            "4/4 [==============================] - 0s 12ms/step - loss: 0.6674 - accuracy: 0.6100 - val_loss: 0.6480 - val_accuracy: 0.7200\n",
            "Epoch 62/150\n",
            "4/4 [==============================] - 0s 12ms/step - loss: 0.6616 - accuracy: 0.7100 - val_loss: 0.6413 - val_accuracy: 0.8600\n",
            "Epoch 63/150\n",
            "4/4 [==============================] - 0s 18ms/step - loss: 0.6544 - accuracy: 0.7800 - val_loss: 0.6373 - val_accuracy: 0.9400\n",
            "Epoch 64/150\n",
            "4/4 [==============================] - 0s 13ms/step - loss: 0.6453 - accuracy: 0.8200 - val_loss: 0.6344 - val_accuracy: 0.9600\n",
            "Epoch 65/150\n",
            "4/4 [==============================] - 0s 18ms/step - loss: 0.6380 - accuracy: 0.8800 - val_loss: 0.6330 - val_accuracy: 0.9600\n",
            "Epoch 66/150\n",
            "4/4 [==============================] - 0s 14ms/step - loss: 0.6339 - accuracy: 0.9100 - val_loss: 0.6320 - val_accuracy: 0.9600\n",
            "Epoch 67/150\n",
            "4/4 [==============================] - 0s 19ms/step - loss: 0.6293 - accuracy: 0.9300 - val_loss: 0.6321 - val_accuracy: 0.9600\n",
            "Epoch 68/150\n",
            "4/4 [==============================] - 0s 19ms/step - loss: 0.6241 - accuracy: 0.9300 - val_loss: 0.6247 - val_accuracy: 0.9600\n",
            "Epoch 69/150\n",
            "4/4 [==============================] - 0s 13ms/step - loss: 0.6172 - accuracy: 0.9300 - val_loss: 0.6145 - val_accuracy: 0.9600\n",
            "Epoch 70/150\n",
            "4/4 [==============================] - 0s 17ms/step - loss: 0.6092 - accuracy: 0.9200 - val_loss: 0.6001 - val_accuracy: 0.9600\n",
            "Epoch 71/150\n",
            "4/4 [==============================] - 0s 17ms/step - loss: 0.6007 - accuracy: 0.9100 - val_loss: 0.5902 - val_accuracy: 0.9600\n",
            "Epoch 72/150\n",
            "4/4 [==============================] - 0s 34ms/step - loss: 0.5949 - accuracy: 0.8900 - val_loss: 0.5825 - val_accuracy: 0.9600\n",
            "Epoch 73/150\n",
            "4/4 [==============================] - 0s 25ms/step - loss: 0.5881 - accuracy: 0.8800 - val_loss: 0.5722 - val_accuracy: 0.9800\n",
            "Epoch 74/150\n",
            "4/4 [==============================] - 0s 25ms/step - loss: 0.5852 - accuracy: 0.8500 - val_loss: 0.5644 - val_accuracy: 0.9600\n",
            "Epoch 75/150\n",
            "4/4 [==============================] - 0s 41ms/step - loss: 0.5802 - accuracy: 0.8500 - val_loss: 0.5590 - val_accuracy: 0.9800\n",
            "Epoch 76/150\n",
            "4/4 [==============================] - 0s 22ms/step - loss: 0.5726 - accuracy: 0.8600 - val_loss: 0.5548 - val_accuracy: 0.9800\n",
            "Epoch 77/150\n",
            "4/4 [==============================] - 0s 14ms/step - loss: 0.5660 - accuracy: 0.8800 - val_loss: 0.5516 - val_accuracy: 0.9800\n",
            "Epoch 78/150\n",
            "4/4 [==============================] - 0s 18ms/step - loss: 0.5596 - accuracy: 0.8900 - val_loss: 0.5456 - val_accuracy: 0.9800\n",
            "Epoch 79/150\n",
            "4/4 [==============================] - 0s 13ms/step - loss: 0.5540 - accuracy: 0.8900 - val_loss: 0.5385 - val_accuracy: 0.9800\n",
            "Epoch 80/150\n",
            "4/4 [==============================] - 0s 18ms/step - loss: 0.5505 - accuracy: 0.8700 - val_loss: 0.5303 - val_accuracy: 0.9800\n",
            "Epoch 81/150\n",
            "4/4 [==============================] - 0s 18ms/step - loss: 0.5465 - accuracy: 0.8700 - val_loss: 0.5240 - val_accuracy: 0.9600\n",
            "Epoch 82/150\n",
            "4/4 [==============================] - 0s 18ms/step - loss: 0.5443 - accuracy: 0.8600 - val_loss: 0.5186 - val_accuracy: 0.9600\n",
            "Epoch 83/150\n",
            "4/4 [==============================] - 0s 17ms/step - loss: 0.5394 - accuracy: 0.8600 - val_loss: 0.5137 - val_accuracy: 0.9600\n",
            "Epoch 84/150\n",
            "4/4 [==============================] - 0s 12ms/step - loss: 0.5328 - accuracy: 0.8700 - val_loss: 0.5093 - val_accuracy: 0.9800\n",
            "Epoch 85/150\n",
            "4/4 [==============================] - 0s 12ms/step - loss: 0.5270 - accuracy: 0.8600 - val_loss: 0.5062 - val_accuracy: 0.9800\n",
            "Epoch 86/150\n",
            "4/4 [==============================] - 0s 19ms/step - loss: 0.5200 - accuracy: 0.8800 - val_loss: 0.5037 - val_accuracy: 0.9800\n",
            "Epoch 87/150\n",
            "4/4 [==============================] - 0s 18ms/step - loss: 0.5155 - accuracy: 0.9100 - val_loss: 0.5028 - val_accuracy: 0.9600\n",
            "Epoch 88/150\n",
            "4/4 [==============================] - 0s 19ms/step - loss: 0.5089 - accuracy: 0.9300 - val_loss: 0.4983 - val_accuracy: 0.9600\n",
            "Epoch 89/150\n",
            "4/4 [==============================] - 0s 12ms/step - loss: 0.5031 - accuracy: 0.9300 - val_loss: 0.4914 - val_accuracy: 0.9600\n",
            "Epoch 90/150\n",
            "4/4 [==============================] - 0s 15ms/step - loss: 0.4970 - accuracy: 0.9300 - val_loss: 0.4864 - val_accuracy: 0.9600\n",
            "Epoch 91/150\n",
            "4/4 [==============================] - 0s 18ms/step - loss: 0.4920 - accuracy: 0.9300 - val_loss: 0.4803 - val_accuracy: 0.9600\n",
            "Epoch 92/150\n",
            "4/4 [==============================] - 0s 18ms/step - loss: 0.4862 - accuracy: 0.9300 - val_loss: 0.4746 - val_accuracy: 0.9600\n",
            "Epoch 93/150\n",
            "4/4 [==============================] - 0s 19ms/step - loss: 0.4817 - accuracy: 0.9300 - val_loss: 0.4722 - val_accuracy: 0.9600\n",
            "Epoch 94/150\n",
            "4/4 [==============================] - 0s 12ms/step - loss: 0.4771 - accuracy: 0.9300 - val_loss: 0.4708 - val_accuracy: 0.9600\n",
            "Epoch 95/150\n",
            "4/4 [==============================] - 0s 12ms/step - loss: 0.4727 - accuracy: 0.9400 - val_loss: 0.4663 - val_accuracy: 0.9600\n",
            "Epoch 96/150\n",
            "4/4 [==============================] - 0s 18ms/step - loss: 0.4681 - accuracy: 0.9300 - val_loss: 0.4573 - val_accuracy: 0.9600\n",
            "Epoch 97/150\n",
            "4/4 [==============================] - 0s 17ms/step - loss: 0.4626 - accuracy: 0.9300 - val_loss: 0.4501 - val_accuracy: 0.9600\n",
            "Epoch 98/150\n",
            "4/4 [==============================] - 0s 18ms/step - loss: 0.4576 - accuracy: 0.9400 - val_loss: 0.4425 - val_accuracy: 0.9600\n",
            "Epoch 99/150\n",
            "4/4 [==============================] - 0s 18ms/step - loss: 0.4543 - accuracy: 0.9200 - val_loss: 0.4359 - val_accuracy: 0.9800\n",
            "Epoch 100/150\n",
            "4/4 [==============================] - 0s 14ms/step - loss: 0.4512 - accuracy: 0.9100 - val_loss: 0.4316 - val_accuracy: 0.9800\n",
            "Epoch 101/150\n",
            "4/4 [==============================] - 0s 13ms/step - loss: 0.4465 - accuracy: 0.9200 - val_loss: 0.4278 - val_accuracy: 0.9600\n",
            "Epoch 102/150\n",
            "4/4 [==============================] - 0s 18ms/step - loss: 0.4416 - accuracy: 0.9300 - val_loss: 0.4261 - val_accuracy: 0.9600\n",
            "Epoch 103/150\n",
            "4/4 [==============================] - 0s 12ms/step - loss: 0.4374 - accuracy: 0.9300 - val_loss: 0.4275 - val_accuracy: 0.9600\n",
            "Epoch 104/150\n",
            "4/4 [==============================] - 0s 17ms/step - loss: 0.4333 - accuracy: 0.9400 - val_loss: 0.4251 - val_accuracy: 0.9800\n",
            "Epoch 105/150\n",
            "4/4 [==============================] - 0s 18ms/step - loss: 0.4294 - accuracy: 0.9400 - val_loss: 0.4165 - val_accuracy: 0.9600\n",
            "Epoch 106/150\n",
            "4/4 [==============================] - 0s 16ms/step - loss: 0.4248 - accuracy: 0.9300 - val_loss: 0.4101 - val_accuracy: 0.9600\n",
            "Epoch 107/150\n",
            "4/4 [==============================] - 0s 12ms/step - loss: 0.4219 - accuracy: 0.9300 - val_loss: 0.4049 - val_accuracy: 0.9600\n",
            "Epoch 108/150\n",
            "4/4 [==============================] - 0s 12ms/step - loss: 0.4182 - accuracy: 0.9300 - val_loss: 0.4025 - val_accuracy: 0.9600\n",
            "Epoch 109/150\n",
            "4/4 [==============================] - 0s 18ms/step - loss: 0.4133 - accuracy: 0.9300 - val_loss: 0.4041 - val_accuracy: 0.9800\n",
            "Epoch 110/150\n",
            "4/4 [==============================] - 0s 13ms/step - loss: 0.4100 - accuracy: 0.9400 - val_loss: 0.4059 - val_accuracy: 0.9600\n",
            "Epoch 111/150\n",
            "4/4 [==============================] - 0s 13ms/step - loss: 0.4068 - accuracy: 0.9300 - val_loss: 0.4008 - val_accuracy: 0.9600\n",
            "Epoch 112/150\n",
            "4/4 [==============================] - 0s 18ms/step - loss: 0.4021 - accuracy: 0.9400 - val_loss: 0.3908 - val_accuracy: 0.9800\n",
            "Epoch 113/150\n",
            "4/4 [==============================] - 0s 12ms/step - loss: 0.3984 - accuracy: 0.9400 - val_loss: 0.3824 - val_accuracy: 0.9600\n",
            "Epoch 114/150\n",
            "4/4 [==============================] - 0s 19ms/step - loss: 0.3964 - accuracy: 0.9400 - val_loss: 0.3772 - val_accuracy: 0.9800\n",
            "Epoch 115/150\n",
            "4/4 [==============================] - 0s 12ms/step - loss: 0.3973 - accuracy: 0.9000 - val_loss: 0.3729 - val_accuracy: 0.9800\n",
            "Epoch 116/150\n",
            "4/4 [==============================] - 0s 13ms/step - loss: 0.3946 - accuracy: 0.9000 - val_loss: 0.3698 - val_accuracy: 0.9800\n",
            "Epoch 117/150\n",
            "4/4 [==============================] - 0s 18ms/step - loss: 0.3882 - accuracy: 0.9300 - val_loss: 0.3695 - val_accuracy: 0.9600\n",
            "Epoch 118/150\n",
            "4/4 [==============================] - 0s 17ms/step - loss: 0.3820 - accuracy: 0.9400 - val_loss: 0.3744 - val_accuracy: 0.9600\n",
            "Epoch 119/150\n",
            "4/4 [==============================] - 0s 18ms/step - loss: 0.3823 - accuracy: 0.9200 - val_loss: 0.3773 - val_accuracy: 0.9600\n",
            "Epoch 120/150\n",
            "4/4 [==============================] - 0s 17ms/step - loss: 0.3765 - accuracy: 0.9300 - val_loss: 0.3685 - val_accuracy: 0.9600\n",
            "Epoch 121/150\n",
            "4/4 [==============================] - 0s 12ms/step - loss: 0.3731 - accuracy: 0.9300 - val_loss: 0.3590 - val_accuracy: 0.9800\n",
            "Epoch 122/150\n",
            "4/4 [==============================] - 0s 18ms/step - loss: 0.3686 - accuracy: 0.9400 - val_loss: 0.3531 - val_accuracy: 0.9800\n",
            "Epoch 123/150\n",
            "4/4 [==============================] - 0s 12ms/step - loss: 0.3676 - accuracy: 0.9400 - val_loss: 0.3467 - val_accuracy: 0.9600\n",
            "Epoch 124/150\n",
            "4/4 [==============================] - 0s 21ms/step - loss: 0.3639 - accuracy: 0.9500 - val_loss: 0.3456 - val_accuracy: 0.9800\n",
            "Epoch 125/150\n",
            "4/4 [==============================] - 0s 16ms/step - loss: 0.3603 - accuracy: 0.9400 - val_loss: 0.3484 - val_accuracy: 0.9600\n",
            "Epoch 126/150\n",
            "4/4 [==============================] - 0s 19ms/step - loss: 0.3568 - accuracy: 0.9300 - val_loss: 0.3540 - val_accuracy: 0.9600\n",
            "Epoch 127/150\n",
            "4/4 [==============================] - 0s 16ms/step - loss: 0.3561 - accuracy: 0.9300 - val_loss: 0.3583 - val_accuracy: 0.9400\n",
            "Epoch 128/150\n",
            "4/4 [==============================] - 0s 12ms/step - loss: 0.3564 - accuracy: 0.9300 - val_loss: 0.3545 - val_accuracy: 0.9600\n",
            "Epoch 129/150\n",
            "4/4 [==============================] - 0s 21ms/step - loss: 0.3530 - accuracy: 0.9300 - val_loss: 0.3471 - val_accuracy: 0.9600\n",
            "Epoch 130/150\n",
            "4/4 [==============================] - 0s 14ms/step - loss: 0.3494 - accuracy: 0.9200 - val_loss: 0.3353 - val_accuracy: 0.9600\n",
            "Epoch 131/150\n",
            "4/4 [==============================] - 0s 12ms/step - loss: 0.3431 - accuracy: 0.9300 - val_loss: 0.3276 - val_accuracy: 0.9800\n",
            "Epoch 132/150\n",
            "4/4 [==============================] - 0s 19ms/step - loss: 0.3409 - accuracy: 0.9400 - val_loss: 0.3223 - val_accuracy: 0.9800\n",
            "Epoch 133/150\n",
            "4/4 [==============================] - 0s 18ms/step - loss: 0.3390 - accuracy: 0.9400 - val_loss: 0.3202 - val_accuracy: 0.9800\n",
            "Epoch 134/150\n",
            "4/4 [==============================] - 0s 17ms/step - loss: 0.3355 - accuracy: 0.9400 - val_loss: 0.3237 - val_accuracy: 0.9600\n",
            "Epoch 135/150\n",
            "4/4 [==============================] - 0s 19ms/step - loss: 0.3341 - accuracy: 0.9400 - val_loss: 0.3314 - val_accuracy: 0.9600\n",
            "Epoch 136/150\n",
            "4/4 [==============================] - 0s 13ms/step - loss: 0.3359 - accuracy: 0.9300 - val_loss: 0.3283 - val_accuracy: 0.9600\n",
            "Epoch 137/150\n",
            "4/4 [==============================] - 0s 13ms/step - loss: 0.3299 - accuracy: 0.9400 - val_loss: 0.3138 - val_accuracy: 0.9800\n",
            "Epoch 138/150\n",
            "4/4 [==============================] - 0s 18ms/step - loss: 0.3269 - accuracy: 0.9400 - val_loss: 0.3053 - val_accuracy: 0.9800\n",
            "Epoch 139/150\n",
            "4/4 [==============================] - 0s 18ms/step - loss: 0.3257 - accuracy: 0.9500 - val_loss: 0.3010 - val_accuracy: 0.9800\n",
            "Epoch 140/150\n",
            "4/4 [==============================] - 0s 20ms/step - loss: 0.3256 - accuracy: 0.9500 - val_loss: 0.2988 - val_accuracy: 0.9800\n",
            "Epoch 141/150\n",
            "4/4 [==============================] - 0s 13ms/step - loss: 0.3233 - accuracy: 0.9500 - val_loss: 0.2974 - val_accuracy: 0.9800\n",
            "Epoch 142/150\n",
            "4/4 [==============================] - 0s 18ms/step - loss: 0.3197 - accuracy: 0.9500 - val_loss: 0.2972 - val_accuracy: 0.9800\n",
            "Epoch 143/150\n",
            "4/4 [==============================] - 0s 13ms/step - loss: 0.3172 - accuracy: 0.9400 - val_loss: 0.3005 - val_accuracy: 0.9800\n",
            "Epoch 144/150\n",
            "4/4 [==============================] - 0s 14ms/step - loss: 0.3139 - accuracy: 0.9300 - val_loss: 0.3006 - val_accuracy: 0.9600\n",
            "Epoch 145/150\n",
            "4/4 [==============================] - 0s 13ms/step - loss: 0.3123 - accuracy: 0.9400 - val_loss: 0.3034 - val_accuracy: 0.9600\n",
            "Epoch 146/150\n",
            "4/4 [==============================] - 0s 18ms/step - loss: 0.3128 - accuracy: 0.9300 - val_loss: 0.3096 - val_accuracy: 0.9600\n",
            "Epoch 147/150\n",
            "4/4 [==============================] - 0s 17ms/step - loss: 0.3138 - accuracy: 0.9300 - val_loss: 0.3169 - val_accuracy: 0.9400\n",
            "Epoch 148/150\n",
            "4/4 [==============================] - 0s 12ms/step - loss: 0.3153 - accuracy: 0.9200 - val_loss: 0.3162 - val_accuracy: 0.9400\n",
            "Epoch 149/150\n",
            "4/4 [==============================] - 0s 19ms/step - loss: 0.3135 - accuracy: 0.9200 - val_loss: 0.3108 - val_accuracy: 0.9400\n",
            "Epoch 150/150\n",
            "4/4 [==============================] - 0s 13ms/step - loss: 0.3088 - accuracy: 0.9400 - val_loss: 0.2974 - val_accuracy: 0.9600\n"
          ]
        },
        {
          "output_type": "execute_result",
          "data": {
            "text/plain": [
              "<matplotlib.legend.Legend at 0x7f4842aa7670>"
            ]
          },
          "metadata": {},
          "execution_count": 65
        },
        {
          "output_type": "display_data",
          "data": {
            "text/plain": [
              "<Figure size 640x480 with 1 Axes>"
            ],
            "image/png": "[encoded data removed]"
          },
          "metadata": {}
        }
      ]
    },
    {
      "cell_type": "markdown",
      "source": [
        "## Inferencia"
      ],
      "metadata": {
        "id": "rVCPATn6oSlj"
      }
    },
    {
      "cell_type": "code",
      "source": [
        "# make a prediction\n",
        "row = [5.1,3.5,1.4,0.2]\n",
        "yhat = model.predict([row])\n",
        "print(argmax(yhat))\n",
        "print('Predicted: %s (class=%d-%s)' % (yhat, argmax(yhat), le.inverse_transform([argmax(yhat)])[0]))"
      ],
      "metadata": {
        "id": "g21o4aiAoVQv",
        "outputId": "00d8a1c3-69a1-4b91-eb39-e132b48c21eb",
        "colab": {
          "base_uri": "https://localhost:8080/"
        }
      },
      "execution_count": null,
      "outputs": [
        {
          "output_type": "stream",
          "name": "stdout",
          "text": [
            "1/1 [==============================] - 0s 71ms/step\n",
            "0\n",
            "Predicted: [[8.7996578e-01 1.1993080e-01 1.0339834e-04]] (class=0-Iris-setosa)\n"
          ]
        }
      ]
    }
  ]
}